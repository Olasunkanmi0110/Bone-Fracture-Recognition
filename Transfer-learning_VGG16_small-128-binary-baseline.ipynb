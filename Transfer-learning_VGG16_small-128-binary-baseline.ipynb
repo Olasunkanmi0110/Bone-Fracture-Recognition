{
 "cells": [
  {
   "cell_type": "markdown",
   "id": "affd637e",
   "metadata": {},
   "source": [
    "# Introduction\n",
    "- The goal of this section is to train a convolutional neural network on custom images (radiographss) from scratch. To achieve this, there are few operations we need to perform, which includes:\n",
    "  - Connecting google colab to our google drive\n",
    "  - Data Preparation: creating training and test data from the raw data\n",
    "  - Building the CNN architecture\n",
    "  - Training the network with and without transfer learning using pretrained models such as Vgg16, ResNet50, DenseNet121, MobileNetV1 and EfficientNet\n",
    "\n",
    "\n",
    "- Dataset:https://stanfordmlgroup.github.io/competitions/mura/"
   ]
  },
  {
   "cell_type": "code",
   "execution_count": null,
   "id": "62c4db91",
   "metadata": {},
   "outputs": [],
   "source": [
    "# Connect Google Colab to Google Drive\n",
    "# from google.colab import drive\n",
    "# drive.mount(\"/content/drive\")"
   ]
  },
  {
   "cell_type": "code",
   "execution_count": 1,
   "id": "327ed162",
   "metadata": {},
   "outputs": [
    {
     "name": "stdout",
     "output_type": "stream",
     "text": [
      "Requirement already satisfied: opencv-python in c:\\users\\olasunkanmi\\anaconda3\\lib\\site-packages (4.8.1.78)\n",
      "Requirement already satisfied: numpy>=1.17.0 in c:\\users\\olasunkanmi\\anaconda3\\lib\\site-packages (from opencv-python) (1.23.0)\n"
     ]
    },
    {
     "name": "stderr",
     "output_type": "stream",
     "text": [
      "\n",
      "[notice] A new release of pip is available: 24.0 -> 25.0.1\n",
      "[notice] To update, run: python.exe -m pip install --upgrade pip\n"
     ]
    }
   ],
   "source": [
    "# install opencv-python\n",
    "!pip install opencv-python"
   ]
  },
  {
   "cell_type": "code",
   "execution_count": 2,
   "id": "e73613f1",
   "metadata": {},
   "outputs": [
    {
     "name": "stdout",
     "output_type": "stream",
     "text": [
      "Requirement already satisfied: keras-tuner in c:\\users\\olasunkanmi\\anaconda3\\lib\\site-packages (1.4.7)\n",
      "Requirement already satisfied: keras in c:\\users\\olasunkanmi\\anaconda3\\lib\\site-packages (from keras-tuner) (2.12.0)\n",
      "Requirement already satisfied: packaging in c:\\users\\olasunkanmi\\anaconda3\\lib\\site-packages (from keras-tuner) (21.3)\n",
      "Requirement already satisfied: requests in c:\\users\\olasunkanmi\\anaconda3\\lib\\site-packages (from keras-tuner) (2.28.1)\n",
      "Requirement already satisfied: kt-legacy in c:\\users\\olasunkanmi\\anaconda3\\lib\\site-packages (from keras-tuner) (1.0.5)\n",
      "Requirement already satisfied: pyparsing!=3.0.5,>=2.0.2 in c:\\users\\olasunkanmi\\anaconda3\\lib\\site-packages (from packaging->keras-tuner) (3.0.9)\n",
      "Requirement already satisfied: charset-normalizer<3,>=2 in c:\\users\\olasunkanmi\\anaconda3\\lib\\site-packages (from requests->keras-tuner) (2.0.4)\n",
      "Requirement already satisfied: idna<4,>=2.5 in c:\\users\\olasunkanmi\\anaconda3\\lib\\site-packages (from requests->keras-tuner) (3.3)\n",
      "Requirement already satisfied: urllib3<1.27,>=1.21.1 in c:\\users\\olasunkanmi\\anaconda3\\lib\\site-packages (from requests->keras-tuner) (1.26.11)\n",
      "Requirement already satisfied: certifi>=2017.4.17 in c:\\users\\olasunkanmi\\anaconda3\\lib\\site-packages (from requests->keras-tuner) (2024.2.2)\n"
     ]
    },
    {
     "name": "stderr",
     "output_type": "stream",
     "text": [
      "\n",
      "[notice] A new release of pip is available: 24.0 -> 25.0.1\n",
      "[notice] To update, run: python.exe -m pip install --upgrade pip\n"
     ]
    }
   ],
   "source": [
    "# install keras-tuner\n",
    "\n",
    "!pip install keras-tuner"
   ]
  },
  {
   "cell_type": "markdown",
   "id": "30f1f531",
   "metadata": {},
   "source": [
    "# smalldataset 128 binary train-test split"
   ]
  },
  {
   "cell_type": "code",
   "execution_count": 3,
   "id": "b390c564",
   "metadata": {},
   "outputs": [],
   "source": [
    "# import the required libraries\n",
    "import cv2\n",
    "import numpy as np\n",
    "import os\n",
    "import shutil\n",
    "import random\n",
    "\n",
    "import tensorflow as tf\n",
    "from tensorflow.keras.layers import Conv2D, MaxPooling2D, Dense, Dropout, Flatten, BatchNormalization\n",
    "from tensorflow.keras.models import Sequential\n",
    "from tensorflow.keras.callbacks import ModelCheckpoint, EarlyStopping\n",
    "from tensorflow.keras.preprocessing.image import ImageDataGenerator\n",
    "from sklearn.metrics import confusion_matrix, classification_report, accuracy_score\n",
    "\n",
    "from tensorflow import keras\n",
    "import keras_tuner as kt\n",
    "\n",
    "from tensorflow.keras.optimizers import Adam\n",
    "\n",
    "import matplotlib.pyplot as plt"
   ]
  },
  {
   "cell_type": "code",
   "execution_count": 4,
   "id": "2049743d",
   "metadata": {},
   "outputs": [],
   "source": [
    "#Clearing backend\n",
    "from tensorflow.keras import backend\n",
    "backend.clear_session()\n",
    "\n",
    "#Fixing the seed for random number generators\n",
    "np.random.seed(1042)\n",
    "import random\n",
    "random.seed(1042)\n",
    "tf.random.set_seed(1042)"
   ]
  },
  {
   "cell_type": "markdown",
   "id": "ccd6c504",
   "metadata": {},
   "source": [
    "# smalldata 128 binary vgg16"
   ]
  },
  {
   "cell_type": "code",
   "execution_count": 5,
   "id": "72350d3d",
   "metadata": {},
   "outputs": [
    {
     "name": "stdout",
     "output_type": "stream",
     "text": [
      "Found 686 images belonging to 2 classes.\n",
      "Found 294 images belonging to 2 classes.\n",
      "Found 420 images belonging to 2 classes.\n",
      "Epoch 1/10\n",
      "22/22 [==============================] - 1105s 51s/step - loss: 1.2341 - accuracy: 0.5219 - val_loss: 0.6659 - val_accuracy: 0.6020\n",
      "Epoch 2/10\n",
      "22/22 [==============================] - 1103s 51s/step - loss: 0.7395 - accuracy: 0.5641 - val_loss: 0.7119 - val_accuracy: 0.5408\n",
      "Epoch 3/10\n",
      "22/22 [==============================] - 1102s 51s/step - loss: 0.6100 - accuracy: 0.6706 - val_loss: 0.6734 - val_accuracy: 0.5850\n",
      "Epoch 4/10\n",
      "22/22 [==============================] - 1193s 55s/step - loss: 0.5854 - accuracy: 0.6720 - val_loss: 0.6574 - val_accuracy: 0.5850\n",
      "Epoch 5/10\n",
      "22/22 [==============================] - 1372s 63s/step - loss: 0.6392 - accuracy: 0.6224 - val_loss: 0.6924 - val_accuracy: 0.5442\n",
      "Epoch 6/10\n",
      "22/22 [==============================] - 1149s 52s/step - loss: 0.5610 - accuracy: 0.6939 - val_loss: 0.6743 - val_accuracy: 0.5918\n",
      "Epoch 7/10\n",
      "22/22 [==============================] - 1124s 52s/step - loss: 0.5081 - accuracy: 0.7493 - val_loss: 0.6887 - val_accuracy: 0.5816\n",
      "Epoch 8/10\n",
      "22/22 [==============================] - 1353s 63s/step - loss: 0.5363 - accuracy: 0.7099 - val_loss: 0.6930 - val_accuracy: 0.5884\n",
      "Epoch 9/10\n",
      "22/22 [==============================] - 1330s 61s/step - loss: 0.4866 - accuracy: 0.7711 - val_loss: 0.6639 - val_accuracy: 0.5714\n",
      "Epoch 10/10\n",
      "22/22 [==============================] - 1201s 55s/step - loss: 0.4695 - accuracy: 0.7741 - val_loss: 0.6652 - val_accuracy: 0.5748\n",
      "14/14 [==============================] - 565s 39s/step\n",
      "Classification Report:\n",
      "              precision    recall  f1-score   support\n",
      "\n",
      "    negative       0.60      0.51      0.55       210\n",
      "    positive       0.57      0.66      0.61       210\n",
      "\n",
      "    accuracy                           0.59       420\n",
      "   macro avg       0.59      0.59      0.58       420\n",
      "weighted avg       0.59      0.59      0.58       420\n",
      "\n"
     ]
    },
    {
     "data": {
      "image/png": "[encoded data removed]",
      "text/plain": [
       "<Figure size 640x480 with 2 Axes>"
      ]
     },
     "metadata": {},
     "output_type": "display_data"
    },
    {
     "name": "stdout",
     "output_type": "stream",
     "text": [
      "Sensitivity: 0.6571428571428571\n",
      "Specificity: 0.5142857142857142\n"
     ]
    },
    {
     "data": {
      "image/png": "[encoded data removed]",
      "text/plain": [
       "<Figure size 640x480 with 1 Axes>"
      ]
     },
     "metadata": {},
     "output_type": "display_data"
    }
   ],
   "source": [
    "import tensorflow as tf\n",
    "from tensorflow.keras.preprocessing.image import ImageDataGenerator\n",
    "from tensorflow.keras.applications import VGG16\n",
    "from tensorflow.keras.layers import Dense, Flatten, Dropout\n",
    "from tensorflow.keras.models import Model\n",
    "import matplotlib.pyplot as plt\n",
    "from sklearn.metrics import classification_report, confusion_matrix\n",
    "import numpy as np\n",
    "import seaborn as sns\n",
    "\n",
    "# Define paths\n",
    "train_dir = \"C:/Users/OLASUNKANMI/Desktop/UoL DS Course files/Semester C/UoL Research Project Materials/New_Mura/small_dataset/128/Binary/train\"\n",
    "test_dir = \"C:/Users/OLASUNKANMI/Desktop/UoL DS Course files/Semester C/UoL Research Project Materials/New_Mura/small_dataset/128/Binary/test\"\n",
    "\n",
    "\n",
    "# Data Preprocessing\n",
    "image_size = (128, 128)\n",
    "batch_size = 32\n",
    "\n",
    "datagen = ImageDataGenerator(rescale=1./255, validation_split=0.3)\n",
    "\n",
    "train_generator = datagen.flow_from_directory(\n",
    "    train_dir,\n",
    "    target_size=image_size,\n",
    "    batch_size=batch_size,\n",
    "    class_mode='binary',\n",
    "    subset='training')\n",
    "\n",
    "val_generator = datagen.flow_from_directory(\n",
    "    train_dir,\n",
    "    target_size=image_size,\n",
    "    batch_size=batch_size,\n",
    "    class_mode='binary',\n",
    "    subset='validation')\n",
    "\n",
    "test_datagen = ImageDataGenerator(rescale=1./255)\n",
    "test_generator = test_datagen.flow_from_directory(\n",
    "    test_dir,\n",
    "    target_size=image_size,\n",
    "    batch_size=batch_size,\n",
    "    class_mode='binary',\n",
    "    shuffle=False)\n",
    "\n",
    "# Load VGG16 Model\n",
    "base_model = VGG16(weights='imagenet', include_top=False, input_shape=(128, 128, 3))\n",
    "base_model.trainable = False  # Freeze base model\n",
    "\n",
    "# Add Custom Layers\n",
    "x = Flatten()(base_model.output)\n",
    "x = Dense(512, activation='relu')(x)\n",
    "x = Dropout(0.5)(x)\n",
    "out = Dense(1, activation='sigmoid')(x)\n",
    "model = Model(inputs=base_model.input, outputs=out)\n",
    "\n",
    "# Compile Model\n",
    "model.compile(optimizer='adam', loss='binary_crossentropy', metrics=['accuracy'])\n",
    "\n",
    "# Train Model\n",
    "history = model.fit(train_generator, validation_data=val_generator, epochs=10)\n",
    "\n",
    "# Evaluate on Test Data\n",
    "y_true = test_generator.classes\n",
    "y_pred_probs = model.predict(test_generator)\n",
    "y_pred = (y_pred_probs > 0.5).astype(int).flatten()\n",
    "\n",
    "# Classification Report\n",
    "print(\"Classification Report:\")\n",
    "print(classification_report(y_true, y_pred, target_names=test_generator.class_indices.keys()))\n",
    "\n",
    "# Confusion Matrix\n",
    "cm = confusion_matrix(y_true, y_pred)\n",
    "sns.heatmap(cm, annot=True, fmt='d', cmap='Blues', xticklabels=test_generator.class_indices.keys(), yticklabels=test_generator.class_indices.keys())\n",
    "plt.xlabel('Predicted')\n",
    "plt.ylabel('Actual')\n",
    "plt.title('Confusion Matrix')\n",
    "plt.show()\n",
    "\n",
    "# Calculate Sensitivity and Specificity\n",
    "sensitivity = cm[1, 1] / (cm[1, 0] + cm[1, 1])\n",
    "specificity = cm[0, 0] / (cm[0, 0] + cm[0, 1])\n",
    "print(\"Sensitivity:\", sensitivity)\n",
    "print(\"Specificity:\", specificity)\n",
    "\n",
    "# Visualize the loss\n",
    "loss = history.history[\"loss\"]\n",
    "val_loss = history.history[\"val_loss\"]\n",
    "epochs = range(1, len(loss) + 1)\n",
    "plt.plot(epochs, loss, label=\"Training\")\n",
    "plt.plot(epochs, val_loss, label=\"Validation\")\n",
    "plt.legend(loc=\"best\")\n",
    "plt.show()"
   ]
  },
  {
   "cell_type": "code",
   "execution_count": null,
   "id": "cad338a9",
   "metadata": {},
   "outputs": [],
   "source": []
  },
  {
   "cell_type": "code",
   "execution_count": null,
   "id": "6093f7b1",
   "metadata": {},
   "outputs": [],
   "source": []
  }
 ],
 "metadata": {
  "kernelspec": {
   "display_name": "Python 3 (ipykernel)",
   "language": "python",
   "name": "python3"
  },
  "language_info": {
   "codemirror_mode": {
    "name": "ipython",
    "version": 3
   },
   "file_extension": ".py",
   "mimetype": "text/x-python",
   "name": "python",
   "nbconvert_exporter": "python",
   "pygments_lexer": "ipython3",
   "version": "3.9.13"
  }
 },
 "nbformat": 4,
 "nbformat_minor": 5
}
